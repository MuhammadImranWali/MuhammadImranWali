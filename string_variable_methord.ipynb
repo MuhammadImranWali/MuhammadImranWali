{
 "cells": [
  {
   "cell_type": "markdown",
   "id": "f93af1ef",
   "metadata": {},
   "source": [
    "# how to assign string values in variable"
   ]
  },
  {
   "cell_type": "code",
   "execution_count": 1,
   "id": "25603169",
   "metadata": {},
   "outputs": [
    {
     "name": "stdout",
     "output_type": "stream",
     "text": [
      "Muhammad Imran Wali <class 'str'>\n"
     ]
    }
   ],
   "source": [
    "name = \"Muhammad Imran Wali\" # 1\n",
    "print(name,type(name))"
   ]
  },
  {
   "cell_type": "code",
   "execution_count": 5,
   "id": "53c61a6b",
   "metadata": {},
   "outputs": [
    {
     "name": "stdout",
     "output_type": "stream",
     "text": [
      "name:\t\tImran Wali\n",
      "father Name:\tWali Muhammad\n",
      "Batch:\t\t 36-37\n"
     ]
    }
   ],
   "source": [
    "#we have to define space characters (\\n \\t )\n",
    "data = 'name:\\t\\tImran Wali\\nfather Name:\\tWali Muhammad\\nBatch:\\t\\t 36-37'\n",
    "print(data)"
   ]
  },
  {
   "cell_type": "code",
   "execution_count": 6,
   "id": "e7631a3c",
   "metadata": {},
   "outputs": [
    {
     "name": "stdout",
     "output_type": "stream",
     "text": [
      "name:\t\tImran Wali\n",
      "father Name:\tWali Muhammad\n",
      "Batch:\t\t 36-37\n"
     ]
    }
   ],
   "source": [
    "# if you are using single quote in start and end \n",
    "# or you want to use in middle of the text then you place (\\) \n",
    "# before middle single quote\n",
    "data = 'name:\\t\\tImran Wali\\nfather Name:\\tWali Muhammad\\nBatch:\\t\\t 36-37'\n",
    "print(data)"
   ]
  },
  {
   "cell_type": "code",
   "execution_count": 9,
   "id": "4a256ca7",
   "metadata": {},
   "outputs": [
    {
     "name": "stdout",
     "output_type": "stream",
     "text": [
      "PIAIC \" Mera \" Pakistan zinda bad\n"
     ]
    }
   ],
   "source": [
    "data = \"PIAIC \\\" Mera \\\" Pakistan zinda bad\"\n",
    "print(data)"
   ]
  },
  {
   "cell_type": "code",
   "execution_count": 11,
   "id": "ce9d89e7",
   "metadata": {},
   "outputs": [
    {
     "name": "stdout",
     "output_type": "stream",
     "text": [
      "Muhammad \"Imran \"Wali <class 'str'>\n"
     ]
    }
   ],
   "source": [
    "name = \"Muhammad \\\"Imran \\\"Wali\" # 1\n",
    "print(name,type(name))"
   ]
  },
  {
   "cell_type": "code",
   "execution_count": 12,
   "id": "0e15cb17",
   "metadata": {},
   "outputs": [
    {
     "data": {
      "text/plain": [
       "\"\\nName:             Muhammad Imran Wali\\nFather's Name:    Wali Muhammad\\nBatch:            36-37\\n\""
      ]
     },
     "execution_count": 12,
     "metadata": {},
     "output_type": "execute_result"
    }
   ],
   "source": [
    "# triple single quote or triple double quote > define multi line string\n",
    "data = \"\"\"\n",
    "Name:             Muhammad Imran Wali\n",
    "Father's Name:    Wali Muhammad\n",
    "Batch:            36-37\n",
    "\"\"\"\n",
    "data # if you write in last line = out put raw text"
   ]
  },
  {
   "cell_type": "code",
   "execution_count": 13,
   "id": "2e4f9108",
   "metadata": {},
   "outputs": [
    {
     "name": "stdout",
     "output_type": "stream",
     "text": [
      "\n",
      "Name:             Muhammad Imran Wali\n",
      "Father's Name:    Wali Muhammad\n",
      "Batch:            36-37\n",
      "\n"
     ]
    }
   ],
   "source": [
    "data = \"\"\"\n",
    "Name:             Muhammad Imran Wali\n",
    "Father's Name:    Wali Muhammad\n",
    "Batch:            36-37\n",
    "\"\"\"\n",
    "print(data)"
   ]
  },
  {
   "cell_type": "code",
   "execution_count": 14,
   "id": "120fe8c6",
   "metadata": {},
   "outputs": [
    {
     "data": {
      "text/plain": [
       "'Muhammad \"Imran \"Wali'"
      ]
     },
     "execution_count": 14,
     "metadata": {},
     "output_type": "execute_result"
    }
   ],
   "source": [
    "name"
   ]
  },
  {
   "cell_type": "code",
   "execution_count": 15,
   "id": "5a4bd464",
   "metadata": {},
   "outputs": [
    {
     "name": "stdout",
     "output_type": "stream",
     "text": [
      "\n",
      "Name:             Muhammad Imran Wali\n",
      "Father's Name:    Wali Muhammad\n",
      "Batch:            36-37\n",
      "\n"
     ]
    }
   ],
   "source": [
    "print(data)"
   ]
  },
  {
   "cell_type": "markdown",
   "id": "d0bff7c8",
   "metadata": {},
   "source": [
    "# How to apply varialbe name rules"
   ]
  },
  {
   "cell_type": "code",
   "execution_count": 19,
   "id": "0c0da668",
   "metadata": {},
   "outputs": [
    {
     "ename": "SyntaxError",
     "evalue": "invalid syntax (Temp/ipykernel_10708/498365159.py, line 1)",
     "output_type": "error",
     "traceback": [
      "\u001b[1;36m  File \u001b[1;32m\"C:\\Users\\MUHAMM~1\\AppData\\Local\\Temp/ipykernel_10708/498365159.py\"\u001b[1;36m, line \u001b[1;32m1\u001b[0m\n\u001b[1;33m    1name = \"Imran Wali\"\u001b[0m\n\u001b[1;37m     ^\u001b[0m\n\u001b[1;31mSyntaxError\u001b[0m\u001b[1;31m:\u001b[0m invalid syntax\n"
     ]
    }
   ],
   "source": [
    "1name = \"Imran Wali\""
   ]
  },
  {
   "cell_type": "code",
   "execution_count": 20,
   "id": "6c78a3f2",
   "metadata": {},
   "outputs": [
    {
     "data": {
      "text/plain": [
       "'Imran Wali'"
      ]
     },
     "execution_count": 20,
     "metadata": {},
     "output_type": "execute_result"
    }
   ],
   "source": [
    "_2name = \"Imran Wali\"\n",
    "_2name"
   ]
  },
  {
   "cell_type": "code",
   "execution_count": 21,
   "id": "c4ea812a",
   "metadata": {},
   "outputs": [
    {
     "data": {
      "text/plain": [
       "'Wali Muhammad'"
      ]
     },
     "execution_count": 21,
     "metadata": {},
     "output_type": "execute_result"
    }
   ],
   "source": [
    "father_name2 = \"Wali Muhammad\"\n",
    "father_name2"
   ]
  },
  {
   "cell_type": "code",
   "execution_count": 22,
   "id": "2f8d5bbd",
   "metadata": {},
   "outputs": [
    {
     "data": {
      "text/plain": [
       "'Wali Muhammad'"
      ]
     },
     "execution_count": 22,
     "metadata": {},
     "output_type": "execute_result"
    }
   ],
   "source": [
    "father_Name2 = \"Wali Muhammad\"\n",
    "father_Name2"
   ]
  },
  {
   "cell_type": "code",
   "execution_count": 23,
   "id": "ab8b7584",
   "metadata": {},
   "outputs": [
    {
     "ename": "SyntaxError",
     "evalue": "cannot assign to operator (Temp/ipykernel_10708/584989543.py, line 1)",
     "output_type": "error",
     "traceback": [
      "\u001b[1;36m  File \u001b[1;32m\"C:\\Users\\MUHAMM~1\\AppData\\Local\\Temp/ipykernel_10708/584989543.py\"\u001b[1;36m, line \u001b[1;32m1\u001b[0m\n\u001b[1;33m    father@Name2 = \"Wali Muhammad\"\u001b[0m\n\u001b[1;37m    ^\u001b[0m\n\u001b[1;31mSyntaxError\u001b[0m\u001b[1;31m:\u001b[0m cannot assign to operator\n"
     ]
    }
   ],
   "source": [
    "father@Name2 = \"Wali Muhammad\"\n",
    "father@Name2"
   ]
  },
  {
   "cell_type": "code",
   "execution_count": 24,
   "id": "e11cdc79",
   "metadata": {},
   "outputs": [
    {
     "ename": "NameError",
     "evalue": "name 'Name' is not defined",
     "output_type": "error",
     "traceback": [
      "\u001b[1;31m---------------------------------------------------------------------------\u001b[0m",
      "\u001b[1;31mNameError\u001b[0m                                 Traceback (most recent call last)",
      "\u001b[1;32mC:\\Users\\MUHAMM~1\\AppData\\Local\\Temp/ipykernel_10708/2665118461.py\u001b[0m in \u001b[0;36m<module>\u001b[1;34m\u001b[0m\n\u001b[0;32m      1\u001b[0m \u001b[0mname\u001b[0m \u001b[1;33m=\u001b[0m \u001b[1;34m\"Muhammad Imran Wali\"\u001b[0m\u001b[1;33m\u001b[0m\u001b[1;33m\u001b[0m\u001b[0m\n\u001b[1;32m----> 2\u001b[1;33m \u001b[0mprint\u001b[0m\u001b[1;33m(\u001b[0m\u001b[0mName\u001b[0m\u001b[1;33m)\u001b[0m \u001b[1;31m# casesensitive \"A\" not equal \"a\"\u001b[0m\u001b[1;33m\u001b[0m\u001b[1;33m\u001b[0m\u001b[0m\n\u001b[0m",
      "\u001b[1;31mNameError\u001b[0m: name 'Name' is not defined"
     ]
    }
   ],
   "source": [
    "name = \"Muhammad Imran Wali\"\n",
    "print(Name) # casesensitive \"A\" not equal \"a\""
   ]
  },
  {
   "cell_type": "code",
   "execution_count": 25,
   "id": "008a96e2",
   "metadata": {},
   "outputs": [
    {
     "data": {
      "text/plain": [
       "'c'"
      ]
     },
     "execution_count": 25,
     "metadata": {},
     "output_type": "execute_result"
    }
   ],
   "source": [
    "\"a\"\n",
    "'b'\n",
    "'c'# jupyter cell always return last line"
   ]
  },
  {
   "cell_type": "code",
   "execution_count": 26,
   "id": "26b4728d",
   "metadata": {},
   "outputs": [
    {
     "data": {
      "text/plain": [
       "'d'"
      ]
     },
     "execution_count": 26,
     "metadata": {},
     "output_type": "execute_result"
    }
   ],
   "source": [
    "\"a\"\n",
    "'b'\n",
    "\"d\" # jupyter cell always return last line"
   ]
  },
  {
   "cell_type": "markdown",
   "id": "fe899fc3",
   "metadata": {},
   "source": [
    "# Concatination (combine two or more variables and values) | Text formation"
   ]
  },
  {
   "cell_type": "code",
   "execution_count": 31,
   "id": "4bd3a576",
   "metadata": {},
   "outputs": [
    {
     "name": "stdout",
     "output_type": "stream",
     "text": [
      "Muhammad Imran Wali Wali Muhammad M.Phil Team Leader MIS SBP & Capital Marketing Unit Meezan bank\n"
     ]
    }
   ],
   "source": [
    "name = \"Muhammad Imran Wali\"\n",
    "father_name = \"Wali Muhammad\"\n",
    "education = \"M.Phil\"\n",
    "designation = \"Team Leader MIS SBP & Capital Marketing Unit\"\n",
    "organization = \"Meezan bank\"\n",
    "\n",
    "print(name, father_name, education, designation,organization)"
   ]
  },
  {
   "cell_type": "code",
   "execution_count": 29,
   "id": "681f61ae",
   "metadata": {},
   "outputs": [
    {
     "name": "stdout",
     "output_type": "stream",
     "text": [
      "Muhammad Imran Wali\n",
      "Wali Muhammad\n",
      "M.Phil\n",
      "Team Leader MIS SBP & Capital Marketing Unit\n",
      "Meezan bank\n"
     ]
    }
   ],
   "source": [
    "name = \"Muhammad Imran Wali\"\n",
    "father_name = \"Wali Muhammad\"\n",
    "education = \"M.Phil\"\n",
    "designation = \"Team Leader MIS SBP & Capital Marketing Unit\"\n",
    "organization = \"Meezan bank\" \n",
    "\n",
    "print(name, father_name, education, designation, organization, sep=\"\\n\")"
   ]
  },
  {
   "cell_type": "code",
   "execution_count": 32,
   "id": "6d750504",
   "metadata": {},
   "outputs": [
    {
     "name": "stdout",
     "output_type": "stream",
     "text": [
      "a\n",
      "b\n"
     ]
    }
   ],
   "source": [
    "print('a')\n",
    "print('b')"
   ]
  },
  {
   "cell_type": "code",
   "execution_count": 33,
   "id": "aba9ce9f",
   "metadata": {},
   "outputs": [
    {
     "name": "stdout",
     "output_type": "stream",
     "text": [
      "PIAIC Teacher Card\n",
      " Name: Muhammad Imran Wali\n",
      " Father's Name: Wali Muhammad\n",
      " Education: M.Phil\n",
      " Designation: Team Leader MIS SBP & Capital Marketing Unit\n",
      " Height:6\n"
     ]
    }
   ],
   "source": [
    "name = \"Muhammad Imran Wali\"\n",
    "father_name = \"Wali Muhammad\"\n",
    "education = \"M.Phil\"\n",
    "designation = \"Team Leader MIS SBP & Capital Marketing Unit\"\n",
    "height = 6  #\n",
    "\n",
    "# + operator on string join two string variable\n",
    "result = \"PIAIC Teacher Card\\n Name: \" + name +\"\\n Father's Name: \"+father_name+\"\\n Education: \"+education+\"\\n Designation: \"+designation+\"\\n Height:\"+str(height)\n",
    "\n",
    "print(result)"
   ]
  },
  {
   "cell_type": "code",
   "execution_count": 35,
   "id": "677c09b5",
   "metadata": {},
   "outputs": [
    {
     "name": "stdout",
     "output_type": "stream",
     "text": [
      "\n",
      "PIAIC Teacher Card\n",
      " Name: Muhammad Imran Wali\n",
      " Father's Name: Wali Muhammad\n",
      " Education: M.Phil\n",
      " Designation: Team Leader MIS SBP & Capital Marketing Unit\n",
      " Height:6\n",
      "\n"
     ]
    }
   ],
   "source": [
    "name = \"Muhammad Imran Wali\"\n",
    "father_name = \"Wali Muhammad\"\n",
    "education = \"M.Phil\"\n",
    "designation = \"Team Leader MIS SBP & Capital Marketing Unit\"\n",
    "height = 6  #\n",
    "\n",
    "data = \"\"\"\n",
    "PIAIC Teacher Card\n",
    " Name: {4}\n",
    " Father's Name: {0}\n",
    " Education: {2}\n",
    " Designation: {3}\n",
    " Height:{1}\n",
    "\"\"\".format(father_name,height,education,designation,name) # now we don't need to type cast\n",
    "#               0       1       2           3        4\n",
    "\n",
    "print(data)\n",
    "\n"
   ]
  },
  {
   "cell_type": "code",
   "execution_count": 78,
   "id": "810290c8",
   "metadata": {},
   "outputs": [
    {
     "name": "stdout",
     "output_type": "stream",
     "text": [
      "\n",
      "PIAIC Teacher Card\n",
      " Name: Muhammad Imran Wali\n",
      " Father's Name: Wali Muhammad\n",
      " Education: M.Phil\n",
      " Designation: Team Leader MIS SBP & Capital Marketing Unit\n",
      " Height:6\n",
      "\n"
     ]
    }
   ],
   "source": [
    "name = \"Muhammad Imran Wali\"\n",
    "father_name = \"Wali Muhammad\"\n",
    "education = \"M.Phil\"\n",
    "designation = \"Team Leader MIS SBP & Capital Marketing Unit\"\n",
    "height = 6  #\n",
    "\n",
    "data = f\"\"\"\n",
    "PIAIC Teacher Card\n",
    " Name: {name}\n",
    " Father's Name: {father_name}\n",
    " Education: {education}\n",
    " Designation: {designation}\n",
    " Height:{height}\n",
    "\"\"\"\n",
    "\n",
    "\n",
    "print(data)"
   ]
  },
  {
   "cell_type": "code",
   "execution_count": 37,
   "id": "eb7edd86",
   "metadata": {},
   "outputs": [
    {
     "data": {
      "text/plain": [
       "'Muhammad Imran Wali'"
      ]
     },
     "execution_count": 37,
     "metadata": {},
     "output_type": "execute_result"
    }
   ],
   "source": [
    "name"
   ]
  },
  {
   "cell_type": "code",
   "execution_count": 38,
   "id": "3c8ffd7b",
   "metadata": {},
   "outputs": [
    {
     "ename": "SyntaxError",
     "evalue": "invalid syntax (Temp/ipykernel_10708/844277270.py, line 1)",
     "output_type": "error",
     "traceback": [
      "\u001b[1;36m  File \u001b[1;32m\"C:\\Users\\MUHAMM~1\\AppData\\Local\\Temp/ipykernel_10708/844277270.py\"\u001b[1;36m, line \u001b[1;32m1\u001b[0m\n\u001b[1;33m    0 1 2 3\u001b[0m\n\u001b[1;37m      ^\u001b[0m\n\u001b[1;31mSyntaxError\u001b[0m\u001b[1;31m:\u001b[0m invalid syntax\n"
     ]
    }
   ],
   "source": [
    " 0 1 2 3\n",
    "(a,b,c,e)"
   ]
  },
  {
   "cell_type": "code",
   "execution_count": 39,
   "id": "75843888",
   "metadata": {},
   "outputs": [
    {
     "ename": "TypeError",
     "evalue": "can only concatenate str (not \"int\") to str",
     "output_type": "error",
     "traceback": [
      "\u001b[1;31m---------------------------------------------------------------------------\u001b[0m",
      "\u001b[1;31mTypeError\u001b[0m                                 Traceback (most recent call last)",
      "\u001b[1;32mC:\\Users\\MUHAMM~1\\AppData\\Local\\Temp/ipykernel_10708/2053007170.py\u001b[0m in \u001b[0;36m<module>\u001b[1;34m\u001b[0m\n\u001b[0;32m      2\u001b[0m \u001b[0mb\u001b[0m \u001b[1;33m=\u001b[0m \u001b[1;36m1000\u001b[0m\u001b[1;33m\u001b[0m\u001b[1;33m\u001b[0m\u001b[0m\n\u001b[0;32m      3\u001b[0m \u001b[1;33m\u001b[0m\u001b[0m\n\u001b[1;32m----> 4\u001b[1;33m \u001b[0ma\u001b[0m \u001b[1;33m+\u001b[0m \u001b[0mb\u001b[0m\u001b[1;33m\u001b[0m\u001b[1;33m\u001b[0m\u001b[0m\n\u001b[0m",
      "\u001b[1;31mTypeError\u001b[0m: can only concatenate str (not \"int\") to str"
     ]
    }
   ],
   "source": [
    "a = \"Pakistan\"\n",
    "b = 1000\n",
    "\n",
    "a + b"
   ]
  },
  {
   "cell_type": "code",
   "execution_count": 41,
   "id": "a7293cc7",
   "metadata": {},
   "outputs": [
    {
     "data": {
      "text/plain": [
       "100.0"
      ]
     },
     "execution_count": 41,
     "metadata": {},
     "output_type": "execute_result"
    }
   ],
   "source": [
    "float('100')"
   ]
  },
  {
   "cell_type": "code",
   "execution_count": 42,
   "id": "6bd11daf",
   "metadata": {},
   "outputs": [
    {
     "data": {
      "text/plain": [
       "100"
      ]
     },
     "execution_count": 42,
     "metadata": {},
     "output_type": "execute_result"
    }
   ],
   "source": [
    "int('100')"
   ]
  },
  {
   "cell_type": "code",
   "execution_count": 43,
   "id": "25bfc0a1",
   "metadata": {},
   "outputs": [
    {
     "data": {
      "text/plain": [
       "'Pakistan2000'"
      ]
     },
     "execution_count": 43,
     "metadata": {},
     "output_type": "execute_result"
    }
   ],
   "source": [
    "a = \"Pakistan\"\n",
    "b = 2000\n",
    "\n",
    "a + str(b)"
   ]
  },
  {
   "cell_type": "code",
   "execution_count": 44,
   "id": "8d46f916",
   "metadata": {},
   "outputs": [
    {
     "name": "stdout",
     "output_type": "stream",
     "text": [
      "Enter any value: Karachi is the biggest city in Pakistan\n",
      "Karachi is the biggest city in Pakistan\n"
     ]
    }
   ],
   "source": [
    "bac = input(\"Enter any value: \") #always return text value\n",
    "print(bac)"
   ]
  },
  {
   "cell_type": "code",
   "execution_count": 45,
   "id": "71dde191",
   "metadata": {},
   "outputs": [
    {
     "name": "stdout",
     "output_type": "stream",
     "text": [
      "Enter Your Name:Muhammad Imran Wali\n",
      "Father's NameWali Muhammad\n",
      "EducationM Phil\n",
      "Your DesignationTeam Lead MIS\n",
      "Your Height6\n",
      "\n",
      "PIAIC Teacher Card\n",
      " Name: Muhammad Imran Wali\n",
      " Father's Name: Wali Muhammad\n",
      " Education: M Phil\n",
      " Designation: Team Lead MIS\n",
      " Height:6.0\n",
      "\n"
     ]
    }
   ],
   "source": [
    "name = input(\"Enter Your Name:\")\n",
    "father_name = input(\"Father's Name\")\n",
    "education = input(\"Education\")\n",
    "designation = input(\"Your Designation\")\n",
    "height = float(input(\"Your Height\"))  #\n",
    "\n",
    "data = f\"\"\"\n",
    "PIAIC Teacher Card\n",
    " Name: {name}\n",
    " Father's Name: {father_name}\n",
    " Education: {education}\n",
    " Designation: {designation}\n",
    " Height:{height}\n",
    "\"\"\"\n",
    "\n",
    "\n",
    "print(data)"
   ]
  },
  {
   "cell_type": "markdown",
   "id": "e2ee3d78",
   "metadata": {},
   "source": [
    "# String Method"
   ]
  },
  {
   "cell_type": "code",
   "execution_count": 46,
   "id": "6dcb16da",
   "metadata": {},
   "outputs": [
    {
     "name": "stdout",
     "output_type": "stream",
     "text": [
      "\n",
      "PIAIC Teacher Card\n",
      " Name: Muhammad Imran Wali\n",
      " Father's Name: Wali Muhammad\n",
      " Education: M Phil\n",
      " Designation: Team Lead MIS\n",
      " Height:6.0\n",
      "\n"
     ]
    }
   ],
   "source": [
    "print(data)"
   ]
  },
  {
   "cell_type": "code",
   "execution_count": 49,
   "id": "c18beec3",
   "metadata": {},
   "outputs": [
    {
     "data": {
      "text/plain": [
       "['__add__',\n",
       " '__class__',\n",
       " '__contains__',\n",
       " '__delattr__',\n",
       " '__dir__',\n",
       " '__doc__',\n",
       " '__eq__',\n",
       " '__format__',\n",
       " '__ge__',\n",
       " '__getattribute__',\n",
       " '__getitem__',\n",
       " '__getnewargs__',\n",
       " '__gt__',\n",
       " '__hash__',\n",
       " '__init__',\n",
       " '__init_subclass__',\n",
       " '__iter__',\n",
       " '__le__',\n",
       " '__len__',\n",
       " '__lt__',\n",
       " '__mod__',\n",
       " '__mul__',\n",
       " '__ne__',\n",
       " '__new__',\n",
       " '__reduce__',\n",
       " '__reduce_ex__',\n",
       " '__repr__',\n",
       " '__rmod__',\n",
       " '__rmul__',\n",
       " '__setattr__',\n",
       " '__sizeof__',\n",
       " '__str__',\n",
       " '__subclasshook__',\n",
       " 'capitalize',\n",
       " 'casefold',\n",
       " 'center',\n",
       " 'count',\n",
       " 'encode',\n",
       " 'endswith',\n",
       " 'expandtabs',\n",
       " 'find',\n",
       " 'format',\n",
       " 'format_map',\n",
       " 'index',\n",
       " 'isalnum',\n",
       " 'isalpha',\n",
       " 'isascii',\n",
       " 'isdecimal',\n",
       " 'isdigit',\n",
       " 'isidentifier',\n",
       " 'islower',\n",
       " 'isnumeric',\n",
       " 'isprintable',\n",
       " 'isspace',\n",
       " 'istitle',\n",
       " 'isupper',\n",
       " 'join',\n",
       " 'ljust',\n",
       " 'lower',\n",
       " 'lstrip',\n",
       " 'maketrans',\n",
       " 'partition',\n",
       " 'removeprefix',\n",
       " 'removesuffix',\n",
       " 'replace',\n",
       " 'rfind',\n",
       " 'rindex',\n",
       " 'rjust',\n",
       " 'rpartition',\n",
       " 'rsplit',\n",
       " 'rstrip',\n",
       " 'split',\n",
       " 'splitlines',\n",
       " 'startswith',\n",
       " 'strip',\n",
       " 'swapcase',\n",
       " 'title',\n",
       " 'translate',\n",
       " 'upper',\n",
       " 'zfill']"
      ]
     },
     "execution_count": 49,
     "metadata": {},
     "output_type": "execute_result"
    }
   ],
   "source": [
    "dir(name)"
   ]
  },
  {
   "cell_type": "code",
   "execution_count": 80,
   "id": "dec68fe3",
   "metadata": {},
   "outputs": [
    {
     "data": {
      "text/plain": [
       "'Muhammad imran wali'"
      ]
     },
     "execution_count": 80,
     "metadata": {},
     "output_type": "execute_result"
    }
   ],
   "source": [
    "name = \"Muhammad Imran Wali\"\n",
    "name.capitalize() #Converts the first character of the string to a capital (uppercase) letter"
   ]
  },
  {
   "cell_type": "code",
   "execution_count": 81,
   "id": "f4e1bfc7",
   "metadata": {},
   "outputs": [
    {
     "data": {
      "text/plain": [
       "'muhammad imran wali'"
      ]
     },
     "execution_count": 81,
     "metadata": {},
     "output_type": "execute_result"
    }
   ],
   "source": [
    "name = \"Muhammad Imran Wali\"\n",
    "name.casefold() #Implements caseless string matching"
   ]
  },
  {
   "cell_type": "code",
   "execution_count": 83,
   "id": "1c1e79bc",
   "metadata": {},
   "outputs": [
    {
     "data": {
      "text/plain": [
       "'          Muhammad Imran Wali           '"
      ]
     },
     "execution_count": 83,
     "metadata": {},
     "output_type": "execute_result"
    }
   ],
   "source": [
    "name = \"Muhammad Imran Wali\"\n",
    "name.center(40) #Pad the string with the specified character."
   ]
  },
  {
   "cell_type": "code",
   "execution_count": 84,
   "id": "308eff49",
   "metadata": {},
   "outputs": [
    {
     "data": {
      "text/plain": [
       "0"
      ]
     },
     "execution_count": 84,
     "metadata": {},
     "output_type": "execute_result"
    }
   ],
   "source": [
    "name = \"Muhammad Imran Wali\"\n",
    "name.count(\"imran\") #Returns the number of occurrences of a substring in the string."
   ]
  },
  {
   "cell_type": "code",
   "execution_count": 85,
   "id": "aceacbe0",
   "metadata": {},
   "outputs": [
    {
     "data": {
      "text/plain": [
       "1"
      ]
     },
     "execution_count": 85,
     "metadata": {},
     "output_type": "execute_result"
    }
   ],
   "source": [
    "name = \"Muhammad Imran Wali\"\n",
    "name.count(\"Imran\") #Returns the number of occurrences of a substring in the string."
   ]
  },
  {
   "cell_type": "code",
   "execution_count": 86,
   "id": "e4d8462f",
   "metadata": {},
   "outputs": [
    {
     "data": {
      "text/plain": [
       "3"
      ]
     },
     "execution_count": 86,
     "metadata": {},
     "output_type": "execute_result"
    }
   ],
   "source": [
    "name = \"Muhammad Imran Wali\"\n",
    "name.count(\"m\") #Returns the number of occurrences of a substring in the string."
   ]
  },
  {
   "cell_type": "code",
   "execution_count": 87,
   "id": "e001dccd",
   "metadata": {},
   "outputs": [
    {
     "data": {
      "text/plain": [
       "b'Muhammad Imran Wali'"
      ]
     },
     "execution_count": 87,
     "metadata": {},
     "output_type": "execute_result"
    }
   ],
   "source": [
    "name = \"Muhammad Imran Wali\"\n",
    "name.encode(\"utf-8\") #Encodes strings with the specified encoded scheme"
   ]
  },
  {
   "cell_type": "code",
   "execution_count": 88,
   "id": "7c725259",
   "metadata": {},
   "outputs": [
    {
     "data": {
      "text/plain": [
       "b'\\xff\\xfeM\\x00u\\x00h\\x00a\\x00m\\x00m\\x00a\\x00d\\x00 \\x00I\\x00m\\x00r\\x00a\\x00n\\x00 \\x00W\\x00a\\x00l\\x00i\\x00'"
      ]
     },
     "execution_count": 88,
     "metadata": {},
     "output_type": "execute_result"
    }
   ],
   "source": [
    "name = \"Muhammad Imran Wali\"\n",
    "name.encode(\"utf-16\") #Encodes strings with the specified encoded scheme"
   ]
  },
  {
   "cell_type": "code",
   "execution_count": 90,
   "id": "89d34eaa",
   "metadata": {},
   "outputs": [
    {
     "data": {
      "text/plain": [
       "False"
      ]
     },
     "execution_count": 90,
     "metadata": {},
     "output_type": "execute_result"
    }
   ],
   "source": [
    "name = \"Muhammad Imran Wali\"\n",
    "name.startswith(\"im\")"
   ]
  },
  {
   "cell_type": "code",
   "execution_count": 93,
   "id": "78b06444",
   "metadata": {},
   "outputs": [
    {
     "name": "stdout",
     "output_type": "stream",
     "text": [
      "\n",
      "name:\t Muhaammad Imran Wali\n",
      "father:\t Wali muhammad\n",
      "Edu:\t M-phil\n",
      "\n"
     ]
    }
   ],
   "source": [
    "data = \"\"\"\n",
    "name:\\t Muhaammad Imran Wali\n",
    "father:\\t Wali muhammad\n",
    "Edu:\\t M-phil\n",
    "\"\"\"\n",
    "print(data)"
   ]
  },
  {
   "cell_type": "code",
   "execution_count": 95,
   "id": "00b71cbe",
   "metadata": {},
   "outputs": [
    {
     "name": "stdout",
     "output_type": "stream",
     "text": [
      "\n",
      "name:      Muhaammad Imran Wali\n",
      "father:    Wali muhammad\n",
      "Edu:       M-phil\n",
      "\n"
     ]
    }
   ],
   "source": [
    "print(data.expandtabs(10))"
   ]
  },
  {
   "cell_type": "code",
   "execution_count": 96,
   "id": "cb4620ea",
   "metadata": {},
   "outputs": [
    {
     "data": {
      "text/plain": [
       "9"
      ]
     },
     "execution_count": 96,
     "metadata": {},
     "output_type": "execute_result"
    }
   ],
   "source": [
    "name = \"Muhammad Imran Wali\"\n",
    "name.find(\"Im\")"
   ]
  },
  {
   "cell_type": "code",
   "execution_count": 97,
   "id": "5d209b81",
   "metadata": {},
   "outputs": [
    {
     "name": "stdout",
     "output_type": "stream",
     "text": [
      "2\n",
      "3\n",
      "3\n",
      "6\n",
      "18\n"
     ]
    }
   ],
   "source": [
    "name = \"Muhammad Imran Wali\"\n",
    "print(name.find(\"ha\"))\n",
    "print(name.find(\"a\"))\n",
    "print(name.find(\"a\"))\n",
    "print(name.find(\"a\",6))\n",
    "print(name.find(\"i\",8))"
   ]
  },
  {
   "cell_type": "code",
   "execution_count": 101,
   "id": "0c2b6164",
   "metadata": {},
   "outputs": [
    {
     "data": {
      "text/plain": [
       "'Muhammad Imran Wali'"
      ]
     },
     "execution_count": 101,
     "metadata": {},
     "output_type": "execute_result"
    }
   ],
   "source": [
    "name = \"Muhammad Imran Wali\"\n",
    "name.format()"
   ]
  },
  {
   "cell_type": "code",
   "execution_count": 102,
   "id": "31647414",
   "metadata": {},
   "outputs": [
    {
     "data": {
      "text/plain": [
       "'Muhammad Imran Wali'"
      ]
     },
     "execution_count": 102,
     "metadata": {},
     "output_type": "execute_result"
    }
   ],
   "source": [
    "name = \"Muhammad Imran Wali\"\n",
    "name.format_map(\"Im\")"
   ]
  },
  {
   "cell_type": "code",
   "execution_count": 103,
   "id": "3163e55b",
   "metadata": {},
   "outputs": [
    {
     "data": {
      "text/plain": [
       "9"
      ]
     },
     "execution_count": 103,
     "metadata": {},
     "output_type": "execute_result"
    }
   ],
   "source": [
    "name = \"Muhammad Imran Wali\"\n",
    "name.index(\"Im\")"
   ]
  },
  {
   "cell_type": "code",
   "execution_count": 110,
   "id": "ccaff10b",
   "metadata": {},
   "outputs": [
    {
     "data": {
      "text/plain": [
       "False"
      ]
     },
     "execution_count": 110,
     "metadata": {},
     "output_type": "execute_result"
    }
   ],
   "source": [
    "name = \"Muhammad Imran Wali\"\n",
    "name.isalnum()"
   ]
  },
  {
   "cell_type": "code",
   "execution_count": 112,
   "id": "3af3fd3b",
   "metadata": {},
   "outputs": [
    {
     "data": {
      "text/plain": [
       "True"
      ]
     },
     "execution_count": 112,
     "metadata": {},
     "output_type": "execute_result"
    }
   ],
   "source": [
    "name = \"Muhammad Imran Wali\"\n",
    "name.isascii()"
   ]
  },
  {
   "cell_type": "code",
   "execution_count": 115,
   "id": "7ef72fe4",
   "metadata": {},
   "outputs": [
    {
     "data": {
      "text/plain": [
       "False"
      ]
     },
     "execution_count": 115,
     "metadata": {},
     "output_type": "execute_result"
    }
   ],
   "source": [
    "name = \"Muhammad Imran Wali\"\n",
    "name.isdecimal()"
   ]
  },
  {
   "cell_type": "code",
   "execution_count": 116,
   "id": "375a8f7f",
   "metadata": {},
   "outputs": [
    {
     "data": {
      "text/plain": [
       "True"
      ]
     },
     "execution_count": 116,
     "metadata": {},
     "output_type": "execute_result"
    }
   ],
   "source": [
    "name = \"10007\"\n",
    "name.isdecimal()"
   ]
  },
  {
   "cell_type": "code",
   "execution_count": 117,
   "id": "7eedb5a5",
   "metadata": {},
   "outputs": [
    {
     "data": {
      "text/plain": [
       "True"
      ]
     },
     "execution_count": 117,
     "metadata": {},
     "output_type": "execute_result"
    }
   ],
   "source": [
    "name = \"10007\"\n",
    "name.isnumeric()"
   ]
  },
  {
   "cell_type": "code",
   "execution_count": 118,
   "id": "6759f0a9",
   "metadata": {},
   "outputs": [
    {
     "data": {
      "text/plain": [
       "False"
      ]
     },
     "execution_count": 118,
     "metadata": {},
     "output_type": "execute_result"
    }
   ],
   "source": [
    "name = \"Muhammad Imran Wali\"\n",
    "name.islower()"
   ]
  },
  {
   "cell_type": "code",
   "execution_count": 119,
   "id": "66a9e87a",
   "metadata": {},
   "outputs": [
    {
     "data": {
      "text/plain": [
       "True"
      ]
     },
     "execution_count": 119,
     "metadata": {},
     "output_type": "execute_result"
    }
   ],
   "source": [
    "name = \"muhammad imran wali\"\n",
    "name.islower()"
   ]
  },
  {
   "cell_type": "code",
   "execution_count": 120,
   "id": "cb2c596f",
   "metadata": {},
   "outputs": [
    {
     "data": {
      "text/plain": [
       "False"
      ]
     },
     "execution_count": 120,
     "metadata": {},
     "output_type": "execute_result"
    }
   ],
   "source": [
    "name = \"muhammad imran wali\"\n",
    "name.isupper()"
   ]
  },
  {
   "cell_type": "code",
   "execution_count": 121,
   "id": "da23f0be",
   "metadata": {},
   "outputs": [
    {
     "data": {
      "text/plain": [
       "True"
      ]
     },
     "execution_count": 121,
     "metadata": {},
     "output_type": "execute_result"
    }
   ],
   "source": [
    "name = \"MUHAMMAD IMRAN WALI\"\n",
    "name.isupper()"
   ]
  },
  {
   "cell_type": "code",
   "execution_count": 128,
   "id": "aee2113e",
   "metadata": {},
   "outputs": [
    {
     "data": {
      "text/plain": [
       "<function str.replace(old, new, count=-1, /)>"
      ]
     },
     "execution_count": 128,
     "metadata": {},
     "output_type": "execute_result"
    }
   ],
   "source": [
    "name = \"MUHAMMAD IMRAN WALI\"\n",
    "name.replace"
   ]
  },
  {
   "cell_type": "code",
   "execution_count": 129,
   "id": "41d6fa4e",
   "metadata": {},
   "outputs": [
    {
     "data": {
      "text/plain": [
       "'MUHAMMAD IMRAN WALI'"
      ]
     },
     "execution_count": 129,
     "metadata": {},
     "output_type": "execute_result"
    }
   ],
   "source": [
    "name = \"muhammad imran wali\"\n",
    "name.upper()"
   ]
  },
  {
   "cell_type": "code",
   "execution_count": 130,
   "id": "9008203e",
   "metadata": {},
   "outputs": [
    {
     "data": {
      "text/plain": [
       "'muhammad imran wali'"
      ]
     },
     "execution_count": 130,
     "metadata": {},
     "output_type": "execute_result"
    }
   ],
   "source": [
    "name = \"MUHAMMAD IMRAN WALI\"\n",
    "name.lower()"
   ]
  },
  {
   "cell_type": "code",
   "execution_count": null,
   "id": "16bbe7b1",
   "metadata": {},
   "outputs": [],
   "source": []
  }
 ],
 "metadata": {
  "kernelspec": {
   "display_name": "Python 3 (ipykernel)",
   "language": "python",
   "name": "python3"
  },
  "language_info": {
   "codemirror_mode": {
    "name": "ipython",
    "version": 3
   },
   "file_extension": ".py",
   "mimetype": "text/x-python",
   "name": "python",
   "nbconvert_exporter": "python",
   "pygments_lexer": "ipython3",
   "version": "3.9.7"
  }
 },
 "nbformat": 4,
 "nbformat_minor": 5
}
