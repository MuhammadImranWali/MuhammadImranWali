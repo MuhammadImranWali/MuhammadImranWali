{
 "cells": [
  {
   "cell_type": "code",
   "execution_count": 2,
   "id": "907b4b03",
   "metadata": {},
   "outputs": [],
   "source": [
    "#less or Tapple\n",
    "#muteable(can be change-(like list)) mute"
   ]
  },
  {
   "cell_type": "markdown",
   "id": "ad7f5c80",
   "metadata": {},
   "source": [
    "List and tuple\n",
    "* list mutable []\n",
    "* Tuple imutable()\n",
    "\n",
    "###List(index)\n",
    "extract sigle value from list or tuple\n",
    "###list(start:end)\n",
    "extract multiple value from list or tuple\n",
    "###list(start:end:seq)\n",
    "extract single vaule from list or tuple define sequance\n",
    "\n",
    "* Methods and attributes\n",
    "\n"
   ]
  },
  {
   "cell_type": "code",
   "execution_count": 67,
   "id": "42eef83a",
   "metadata": {},
   "outputs": [],
   "source": [
    "name = \"Muhammad Imran Wali\""
   ]
  },
  {
   "cell_type": "code",
   "execution_count": 68,
   "id": "3b9251bd",
   "metadata": {},
   "outputs": [],
   "source": [
    "#>           0     1       2      3            4       5\n",
    "names = [\"Qasim\",\"Nasir\",\"Ali\",\"Imran Wali\",\"Hamza\",\"Mansoor\"]\n",
    "# >        -6      -5     -4      -3           -2      -1\n",
    "\n",
    "#List(index)\n",
    "#list(start:end)\n",
    "#list(start:end:seq)"
   ]
  },
  {
   "cell_type": "markdown",
   "id": "6810e971",
   "metadata": {},
   "source": [
    "###List(index)\n",
    "\n",
    "extract sigle value from list or tuple"
   ]
  },
  {
   "cell_type": "code",
   "execution_count": 10,
   "id": "dc41ee3b",
   "metadata": {},
   "outputs": [
    {
     "name": "stdout",
     "output_type": "stream",
     "text": [
      "['Qasim', 'Nasir', 'Ali', 'Imran Wali', 'Hamza', 'Mansoor']\n",
      "Imran Wali\n",
      "Imran Wali\n"
     ]
    }
   ],
   "source": [
    "#>           0     1       2      3            4       5\n",
    "names = [\"Qasim\",\"Nasir\",\"Ali\",\"Imran Wali\",\"Hamza\",\"Mansoor\"]\n",
    "# >        -6      -5     -4      -3           -2      -1\n",
    "\n",
    "print(names)\n",
    "print(names[3]) #extrac value from positive index\n",
    "print(names[-3])#extrac value from Nagative index"
   ]
  },
  {
   "cell_type": "code",
   "execution_count": 13,
   "id": "faed0ba8",
   "metadata": {},
   "outputs": [
    {
     "name": "stdout",
     "output_type": "stream",
     "text": [
      "Before ['Qasim', 'Nasir', 'Ali', 'Imran Wali', 'Hamza', 'Mansoor']\n",
      "After ['Muhammad Qasim', 'Nasir', 'Ali', 'Imran Wali', 'Hamza', 'Mansoor']\n"
     ]
    }
   ],
   "source": [
    "#>           0     1       2      3            4       5\n",
    "names = [\"Qasim\",\"Nasir\",\"Ali\",\"Imran Wali\",\"Hamza\",\"Mansoor\"]\n",
    "# >        -6      -5     -4      -3           -2      -1\n",
    "\n",
    "print(\"Before\", names)\n",
    "names[0] = \"Muhammad Qasim\" #for value change by ==\n",
    "print(\"After\", names)"
   ]
  },
  {
   "cell_type": "markdown",
   "id": "1881f435",
   "metadata": {},
   "source": [
    "## list[start:end]\n",
    "\n",
    "## Slicicng (extract multple value in squance\n",
    "\n",
    "extract multiple value from list or tuple(start exlude,end excluede on minus)"
   ]
  },
  {
   "cell_type": "code",
   "execution_count": 19,
   "id": "1d7bb448",
   "metadata": {},
   "outputs": [
    {
     "name": "stdout",
     "output_type": "stream",
     "text": [
      "['Nasir', 'Ali', 'Imran Wali']\n",
      "['Nasir', 'Ali', 'Imran Wali', 'Hamza']\n",
      "['Nasir', 'Ali', 'Imran Wali', 'Hamza', 'Mansoor']\n"
     ]
    }
   ],
   "source": [
    "#>           0     1       2      3            4       5\n",
    "names = [\"Qasim\",\"Nasir\",\"Ali\",\"Imran Wali\",\"Hamza\",\"Mansoor\"]\n",
    "# >        -6      -5     -4      -3           -2      -1\n",
    "\n",
    "print(names[1:4]) # Start enclude , end exclude index -1\n",
    "print(names[1:5]) #\n",
    "print(names[1:6]) #"
   ]
  },
  {
   "cell_type": "markdown",
   "id": "43cbc531",
   "metadata": {},
   "source": [
    "### list(start:end:seq)\n",
    "extract single vaule from list or tuple define sequance\n",
    "start = enclude\n",
    "end = exvlude or index 1\n",
    "sequance =  steps (defulat value of step 1\n",
    "if Step = 1 (slicing left to right)\n",
    "\n",
    "if Step = -1 (slicing right to left)\n",
    "\n",
    "range (start, end , step)"
   ]
  },
  {
   "cell_type": "code",
   "execution_count": 21,
   "id": "f869735d",
   "metadata": {},
   "outputs": [
    {
     "name": "stdout",
     "output_type": "stream",
     "text": [
      "[1, 2, 3, 4, 5, 6, 7, 8, 9, 10, 11, 12, 13, 14, 15, 16, 17, 18, 19, 20]\n"
     ]
    }
   ],
   "source": [
    "numbers = list(range(1,21)) # by using range \n",
    "print(numbers)"
   ]
  },
  {
   "cell_type": "code",
   "execution_count": 25,
   "id": "75ae048b",
   "metadata": {},
   "outputs": [
    {
     "name": "stdout",
     "output_type": "stream",
     "text": [
      "[1, 2, 3, 4, 5, 6, 7, 8, 9, 10, 11, 12, 13, 14, 15, 16, 17, 18, 19, 20]\n",
      "[8, 9, 10, 11, 12, 13, 14, 15, 16, 17]\n",
      "[9, 10, 11, 12, 13, 14, 15, 16, 17, 18, 19, 20]\n"
     ]
    }
   ],
   "source": [
    "numbers = [1, 2, 3, 4, 5, 6, 7, 8, 9, 10, 11, 12, 13, 14, 15, 16, 17, 18, 19, 20] # by using manual \n",
    "print(numbers)\n",
    "print(numbers[7:17])\n",
    "#[Start : end :step]\n",
    "print(numbers[8::])"
   ]
  },
  {
   "cell_type": "code",
   "execution_count": 26,
   "id": "68fd9d3c",
   "metadata": {},
   "outputs": [
    {
     "name": "stdout",
     "output_type": "stream",
     "text": [
      "[1, 2, 3, 4, 5, 6, 7, 8, 9, 10, 11, 12, 13, 14, 15, 16, 17, 18, 19, 20]\n",
      "[1, 2, 3, 4, 5, 6, 7, 8, 9, 10, 11, 12, 13, 14, 15, 16]\n"
     ]
    }
   ],
   "source": [
    "numbers = [1, 2, 3, 4, 5, 6, 7, 8, 9, 10, 11, 12, 13, 14, 15, 16, 17, 18, 19, 20] # by using manual \n",
    "print(numbers)\n",
    "#[Start : end :step]\n",
    "print(numbers[:16])"
   ]
  },
  {
   "cell_type": "code",
   "execution_count": 27,
   "id": "f2478ccd",
   "metadata": {},
   "outputs": [
    {
     "name": "stdout",
     "output_type": "stream",
     "text": [
      "[1, 2, 3, 4, 5, 6, 7, 8, 9, 10, 11, 12, 13, 14, 15, 16, 17, 18, 19, 20]\n",
      "[1, 3, 5, 7, 9, 11, 13, 15, 17, 19]\n"
     ]
    }
   ],
   "source": [
    "numbers = [1, 2, 3, 4, 5, 6, 7, 8, 9, 10, 11, 12, 13, 14, 15, 16, 17, 18, 19, 20] # by using manual \n",
    "print(numbers)\n",
    "#[Start : end :step]\n",
    "print(numbers[::2])"
   ]
  },
  {
   "cell_type": "code",
   "execution_count": 28,
   "id": "a6a17b80",
   "metadata": {},
   "outputs": [
    {
     "name": "stdout",
     "output_type": "stream",
     "text": [
      "[1, 2, 3, 4, 5, 6, 7, 8, 9, 10, 11, 12, 13, 14, 15, 16, 17, 18, 19, 20]\n",
      "[1, 4, 7, 10, 13, 16, 19]\n"
     ]
    }
   ],
   "source": [
    "numbers = [1, 2, 3, 4, 5, 6, 7, 8, 9, 10, 11, 12, 13, 14, 15, 16, 17, 18, 19, 20] # by using manual \n",
    "print(numbers)\n",
    "#[Start : end :step]\n",
    "print(numbers[::3])"
   ]
  },
  {
   "cell_type": "code",
   "execution_count": 30,
   "id": "237ba8d3",
   "metadata": {},
   "outputs": [
    {
     "name": "stdout",
     "output_type": "stream",
     "text": [
      "[1, 2, 3, 4, 5, 6, 7, 8, 9, 10, 11, 12, 13, 14, 15, 16, 17, 18, 19, 20]\n",
      "[1, 6, 11, 16]\n"
     ]
    }
   ],
   "source": [
    "numbers = [1, 2, 3, 4, 5, 6, 7, 8, 9, 10, 11, 12, 13, 14, 15, 16, 17, 18, 19, 20] # by using manual \n",
    "print(numbers)\n",
    "#[Start : end :step]\n",
    "print(numbers[::5])"
   ]
  },
  {
   "cell_type": "code",
   "execution_count": null,
   "id": "6523c590",
   "metadata": {},
   "outputs": [],
   "source": [
    "# if Step = 1 (slicing left to right)\n",
    "# if Step = -1 (slicing right to left)"
   ]
  },
  {
   "cell_type": "code",
   "execution_count": 32,
   "id": "b6f339ce",
   "metadata": {},
   "outputs": [
    {
     "name": "stdout",
     "output_type": "stream",
     "text": [
      "[1, 2, 3, 4, 5, 6, 7, 8, 9, 10, 11, 12, 13, 14, 15, 16, 17, 18, 19, 20]\n",
      "[1, 3, 5, 7, 9, 11, 13, 15, 17, 19]\n"
     ]
    }
   ],
   "source": [
    "numbers = [1, 2, 3, 4, 5, 6, 7, 8, 9, 10, 11, 12, 13, 14, 15, 16, 17, 18, 19, 20] # by using manual \n",
    "print(numbers)\n",
    "#[Start : end :step]\n",
    "print(numbers[::2])#(slicing right to left)"
   ]
  },
  {
   "cell_type": "code",
   "execution_count": 33,
   "id": "8f31ba52",
   "metadata": {},
   "outputs": [
    {
     "name": "stdout",
     "output_type": "stream",
     "text": [
      "[1, 2, 3, 4, 5, 6, 7, 8, 9, 10, 11, 12, 13, 14, 15, 16, 17, 18, 19, 20]\n",
      "[20, 19, 18, 17, 16, 15, 14, 13, 12, 11, 10, 9, 8, 7, 6, 5, 4, 3, 2, 1]\n"
     ]
    }
   ],
   "source": [
    "numbers = [1, 2, 3, 4, 5, 6, 7, 8, 9, 10, 11, 12, 13, 14, 15, 16, 17, 18, 19, 20] # by using manual \n",
    "print(numbers)\n",
    "#[Start : end :step]\n",
    "print(numbers[::-1])#(slicing left to right)"
   ]
  },
  {
   "cell_type": "code",
   "execution_count": 40,
   "id": "7f851f4c",
   "metadata": {},
   "outputs": [
    {
     "name": "stdout",
     "output_type": "stream",
     "text": [
      "[1, 2, 3, 4, 5, 6, 7, 8, 9, 10, 11, 12, 13, 14, 15, 16, 17, 18, 19, 20]\n",
      "[]\n",
      "[20, 19, 18, 17, 16, 15, 14, 13, 12, 11, 10, 9, 8, 7, 6, 5, 4, 3, 2, 1]\n",
      "[10, 9, 8, 7, 6, 5, 4, 3, 2, 1]\n",
      "[20, 19, 18, 17, 16, 15, 14, 13, 12, 11, 10, 9, 8, 7, 6, 5, 4, 3, 2, 1]\n",
      "[10, 9, 8, 7, 6, 5, 4, 3, 2, 1]\n"
     ]
    }
   ],
   "source": [
    "numbers = [1, 2, 3, 4, 5, 6, 7, 8, 9, 10, 11, 12, 13, 14, 15, 16, 17, 18, 19, 20] # by using manual \n",
    "print(numbers)\n",
    "#[Start : end :step]\n",
    "print(numbers[0:10:-1])#(slicing right to left)\n",
    "print(numbers[::-1])#(slicing left to right)\n",
    "print(numbers[-11:-21:-1])#(slicing left to right)\n",
    "print(numbers[20:-21:-1])\n",
    "print(numbers[9:-21:-1])"
   ]
  },
  {
   "cell_type": "code",
   "execution_count": 46,
   "id": "01ebda8e",
   "metadata": {},
   "outputs": [
    {
     "name": "stdout",
     "output_type": "stream",
     "text": [
      "[20, 19, 18, 17, 16, 15, 14, 13, 12, 11, 10, 9, 8, 7, 6, 5, 4, 3, 2, 1]\n",
      "[17, 16, 15]\n"
     ]
    }
   ],
   "source": [
    "numbers = [1, 2, 3, 4, 5, 6, 7, 8, 9, 10, 11, 12, 13, 14, 15, 16, 17, 18, 19, 20] # by using manual \n",
    "print(numbers[::-1])\n",
    "print(numbers[16:13:-1]) # 17,16,15"
   ]
  },
  {
   "cell_type": "code",
   "execution_count": 49,
   "id": "fa489264",
   "metadata": {},
   "outputs": [
    {
     "name": "stdout",
     "output_type": "stream",
     "text": [
      "[1, 2, 3, 4, 5]\n",
      "[5, 4, 3, 2, 1]\n",
      "[4, 3, 2]\n",
      "[4, 3, 2]\n"
     ]
    }
   ],
   "source": [
    "numbers = [1, 2, 3, 4, 5] # by using manual \n",
    "print(numbers)\n",
    "print(numbers[::-1])\n",
    "print(numbers[3:0:-1]) # 4,3,2\n",
    "print(numbers[-2:-5:-1]) # 4,3,2"
   ]
  },
  {
   "cell_type": "code",
   "execution_count": 55,
   "id": "d0534776",
   "metadata": {},
   "outputs": [],
   "source": [
    "#Name = Muhammad Imran Wali = AIC-187118"
   ]
  },
  {
   "cell_type": "code",
   "execution_count": 58,
   "id": "b5351981",
   "metadata": {},
   "outputs": [
    {
     "name": "stdout",
     "output_type": "stream",
     "text": [
      "['1', '2', '4']\n",
      "['1', '2', '4']\n",
      "['1', '2', '4']\n",
      "['1', '2', '4']\n"
     ]
    }
   ],
   "source": [
    "l1 = ['1','2','4']\n",
    "l2=l3=l4 = l1\n",
    "\n",
    "print(l1)\n",
    "print(l2)\n",
    "print(l3)\n",
    "print(l4)"
   ]
  },
  {
   "cell_type": "code",
   "execution_count": 53,
   "id": "cd6b6b3f",
   "metadata": {},
   "outputs": [
    {
     "name": "stdout",
     "output_type": "stream",
     "text": [
      "[1, 2, 3, 4, 5, 6]\n",
      "[4, 5, 6]\n"
     ]
    }
   ],
   "source": [
    "l1 = [1,2,3,]\n",
    "l2 = [4,5,6]\n",
    "\n",
    "l1.extend(l2)\n",
    "\n",
    "print(l1)\n",
    "print(l2)"
   ]
  },
  {
   "cell_type": "code",
   "execution_count": 59,
   "id": "26529fc2",
   "metadata": {},
   "outputs": [
    {
     "name": "stdout",
     "output_type": "stream",
     "text": [
      "[1, 2, 3, [4, 5, 6]]\n",
      "[4, 5, 6]\n"
     ]
    }
   ],
   "source": [
    "l1 = [1,2,3,]\n",
    "l2 = [4,5,6]\n",
    "\n",
    "l1.append(l2)\n",
    "\n",
    "print(l1)\n",
    "print(l2)"
   ]
  },
  {
   "cell_type": "code",
   "execution_count": 65,
   "id": "bfc6ca7c",
   "metadata": {},
   "outputs": [
    {
     "data": {
      "text/plain": [
       "3"
      ]
     },
     "execution_count": 65,
     "metadata": {},
     "output_type": "execute_result"
    }
   ],
   "source": [
    "names.index(\"Imran Wali\")"
   ]
  },
  {
   "cell_type": "code",
   "execution_count": 64,
   "id": "e98894c6",
   "metadata": {},
   "outputs": [
    {
     "data": {
      "text/plain": [
       "['Qasim', 'Nasir', 'Ali', 'Imran Wali', 'Hamza', 'Mansoor']"
      ]
     },
     "execution_count": 64,
     "metadata": {},
     "output_type": "execute_result"
    }
   ],
   "source": [
    "names"
   ]
  },
  {
   "cell_type": "code",
   "execution_count": 66,
   "id": "3794e7e3",
   "metadata": {},
   "outputs": [
    {
     "name": "stdout",
     "output_type": "stream",
     "text": [
      "['Qasim', 'Nasir', 'Ali', 'Imran Wali', 'Hamza', 'Mansoor']\n",
      "['Qasim', 'Nasir', 'Ali', 'Imran Wali', 'Hamza', 'Mansoor', 'Asif']\n"
     ]
    }
   ],
   "source": [
    "print(names)\n",
    "names.append(\"Asif\")# add element in the list at last\n",
    "print(names)"
   ]
  },
  {
   "cell_type": "code",
   "execution_count": null,
   "id": "c34074de",
   "metadata": {},
   "outputs": [],
   "source": []
  }
 ],
 "metadata": {
  "kernelspec": {
   "display_name": "Python 3 (ipykernel)",
   "language": "python",
   "name": "python3"
  },
  "language_info": {
   "codemirror_mode": {
    "name": "ipython",
    "version": 3
   },
   "file_extension": ".py",
   "mimetype": "text/x-python",
   "name": "python",
   "nbconvert_exporter": "python",
   "pygments_lexer": "ipython3",
   "version": "3.9.7"
  }
 },
 "nbformat": 4,
 "nbformat_minor": 5
}
