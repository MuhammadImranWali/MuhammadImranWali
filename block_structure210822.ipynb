{
 "cells": [
  {
   "cell_type": "markdown",
   "id": "b4784564",
   "metadata": {},
   "source": [
    "# controls structure\n",
    "* if\n",
    "    * else\n",
    "    * elif\n",
    "        and or not in\n",
    "* while\n",
    "    * break\n",
    "    * continue\n",
    "    * pass\n",
    "* for\n",
    "    * break\n",
    "    * continue\n",
    "    * pass\n",
    "* try\n",
    "    * except\n",
    "* def\n",
    "* class\n"
   ]
  },
  {
   "cell_type": "markdown",
   "id": "625ce015",
   "metadata": {},
   "source": [
    "# if \n",
    "\n",
    "```\n",
    "if True/False:\n",
    "    True_block\n",
    "```\n",
    "\n",
    "## if else\n",
    "```\n",
    "if True/False:\n",
    "    True_block\n",
    "else:\n",
    "    False_block\n",
    "```\n",
    "\n",
    "### if elif else\n",
    "\n",
    "```\n",
    "if True/False:\n",
    "    True_block\n",
    "elif True/False:\n",
    "    True_block\n",
    "elif True/False:\n",
    "    True_block\n",
    "else:\n",
    "    False_block\n",
    "```"
   ]
  },
  {
   "cell_type": "markdown",
   "id": "bd70b678",
   "metadata": {},
   "source": [
    "# if \n",
    "\n",
    "```\n",
    "if True/False:\n",
    "    True_block\n",
    "```"
   ]
  },
  {
   "cell_type": "code",
   "execution_count": 14,
   "id": "39ed8125",
   "metadata": {},
   "outputs": [
    {
     "name": "stdout",
     "output_type": "stream",
     "text": [
      "Pakistan Zinda bad\n"
     ]
    }
   ],
   "source": [
    "if True:\n",
    "    print(\"Pakistan Zinda bad\") #true block"
   ]
  },
  {
   "cell_type": "code",
   "execution_count": 15,
   "id": "d88384ce",
   "metadata": {},
   "outputs": [],
   "source": [
    "if False:\n",
    "    print(\"Pakistan zinda bad\")"
   ]
  },
  {
   "cell_type": "markdown",
   "id": "ed83ad8e",
   "metadata": {},
   "source": [
    "## if else\n",
    "```\n",
    "if True/False:\n",
    "    True_block\n",
    "else:\n",
    "    False_block\n",
    "```"
   ]
  },
  {
   "cell_type": "code",
   "execution_count": 4,
   "id": "73ec9e57",
   "metadata": {},
   "outputs": [
    {
     "name": "stdout",
     "output_type": "stream",
     "text": [
      "Pakistan Zinda bad\n"
     ]
    }
   ],
   "source": [
    "if True:\n",
    "    print(\"Pakistan Zinda bad\") #true block\n",
    "else:\n",
    "    print(\"USA\") #false block"
   ]
  },
  {
   "cell_type": "code",
   "execution_count": 5,
   "id": "b911cdeb",
   "metadata": {},
   "outputs": [
    {
     "name": "stdout",
     "output_type": "stream",
     "text": [
      "Enter User111\n"
     ]
    },
    {
     "data": {
      "text/plain": [
       "'111'"
      ]
     },
     "execution_count": 5,
     "metadata": {},
     "output_type": "execute_result"
    }
   ],
   "source": [
    "user = input('Enter User')\n",
    "user"
   ]
  },
  {
   "cell_type": "code",
   "execution_count": 7,
   "id": "9c234f4f",
   "metadata": {},
   "outputs": [
    {
     "name": "stdout",
     "output_type": "stream",
     "text": [
      "Enter Useraddd\n"
     ]
    },
    {
     "data": {
      "text/plain": [
       "False"
      ]
     },
     "execution_count": 7,
     "metadata": {},
     "output_type": "execute_result"
    }
   ],
   "source": [
    "user = input('Enter User')\n",
    "user == \"admin\""
   ]
  },
  {
   "cell_type": "code",
   "execution_count": 9,
   "id": "7fb3ada1",
   "metadata": {},
   "outputs": [
    {
     "name": "stdout",
     "output_type": "stream",
     "text": [
      "Enter Useradmin\n",
      "Valid User\n"
     ]
    }
   ],
   "source": [
    "user = input('Enter User')\n",
    "\n",
    "if user == \"admin\":\n",
    "    print(\"Valid User\")\n",
    "else:\n",
    "    print('Invalid User')"
   ]
  },
  {
   "cell_type": "code",
   "execution_count": 10,
   "id": "879c336a",
   "metadata": {},
   "outputs": [
    {
     "name": "stdout",
     "output_type": "stream",
     "text": [
      "Enter Useradmin\n",
      "Valid User\n",
      "Welcome\n",
      "Conraculation\n"
     ]
    }
   ],
   "source": [
    "user = input('Enter User')\n",
    "\n",
    "if user == \"admin\":\n",
    "    print(\"Valid User\")\n",
    "    print(\"Welcome\")\n",
    "    print(\"Conraculation\")\n",
    "else:\n",
    "    print('Invalid User')"
   ]
  },
  {
   "cell_type": "markdown",
   "id": "629cb105",
   "metadata": {},
   "source": [
    "### if elif else\n",
    "\n",
    "```\n",
    "if True/False:\n",
    "    True_block\n",
    "elif True/False:\n",
    "    True_block\n",
    "elif True/False:\n",
    "    True_block\n",
    "else:\n",
    "    False_block\n",
    "```"
   ]
  },
  {
   "cell_type": "code",
   "execution_count": 18,
   "id": "a0d07d2e",
   "metadata": {},
   "outputs": [
    {
     "name": "stdout",
     "output_type": "stream",
     "text": [
      "90\n",
      "A+\n"
     ]
    }
   ],
   "source": [
    "per = 90\n",
    "grade = \"\"\n",
    "if per >= 80:\n",
    "    grade = \"A+\"\n",
    "elif per >= 70:\n",
    "    grade = \"A\"\n",
    "elif per >= 60:\n",
    "    grade = \"B\"\n",
    "elif per >= 50:\n",
    "    grade = \"C\"\n",
    "else:\n",
    "    grade = \"Fail\"\n",
    "print (per)\n",
    "print(grade)"
   ]
  },
  {
   "cell_type": "code",
   "execution_count": 19,
   "id": "6b4ae3a5",
   "metadata": {},
   "outputs": [
    {
     "name": "stdout",
     "output_type": "stream",
     "text": [
      "Percentage:  60\n",
      "60\n",
      "B\n"
     ]
    }
   ],
   "source": [
    "per = int(input(\"Percentage:  \"))\n",
    "grade = \"\"\n",
    "if per >= 80:\n",
    "    grade = \"A+\"\n",
    "elif per >= 70:\n",
    "    grade = \"A\"\n",
    "elif per >= 60:\n",
    "    grade = \"B\"\n",
    "elif per >= 50:\n",
    "    grade = \"C\"\n",
    "else:\n",
    "    grade = \"Fail\"\n",
    "print (per)\n",
    "print(grade)"
   ]
  },
  {
   "cell_type": "code",
   "execution_count": 17,
   "id": "df0caa10",
   "metadata": {},
   "outputs": [
    {
     "name": "stdout",
     "output_type": "stream",
     "text": [
      "PIAIC187118\n"
     ]
    }
   ],
   "source": [
    "print(\"PIAIC187118\")"
   ]
  },
  {
   "cell_type": "code",
   "execution_count": null,
   "id": "83ab9d2d",
   "metadata": {},
   "outputs": [],
   "source": []
  }
 ],
 "metadata": {
  "kernelspec": {
   "display_name": "Python 3 (ipykernel)",
   "language": "python",
   "name": "python3"
  },
  "language_info": {
   "codemirror_mode": {
    "name": "ipython",
    "version": 3
   },
   "file_extension": ".py",
   "mimetype": "text/x-python",
   "name": "python",
   "nbconvert_exporter": "python",
   "pygments_lexer": "ipython3",
   "version": "3.9.7"
  }
 },
 "nbformat": 4,
 "nbformat_minor": 5
}
