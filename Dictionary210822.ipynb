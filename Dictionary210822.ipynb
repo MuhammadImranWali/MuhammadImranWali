{
 "cells": [
  {
   "cell_type": "code",
   "execution_count": null,
   "id": "d122f278",
   "metadata": {},
   "outputs": [],
   "source": [
    "{\n",
    "  key1:value1,\n",
    "  key2:value2,\n",
    "  key3:value3,\n",
    "  ...\n",
    "}\n",
    "\n",
    "# always start and with { }\n",
    "# key and values \n",
    "# : seperator between key and value\n",
    "# , seprator between key:value pair\n",
    "# key data types always should be int or string\n",
    "# value data types can be any types"
   ]
  },
  {
   "cell_type": "code",
   "execution_count": 39,
   "id": "8a4b2843",
   "metadata": {},
   "outputs": [
    {
     "data": {
      "text/plain": [
       "'M.Phil'"
      ]
     },
     "execution_count": 39,
     "metadata": {},
     "output_type": "execute_result"
    }
   ],
   "source": [
    "#    0       1      2   3      4\n",
    "a=['Imran','Wali',30,'M.Phil',['AI',\"ML\",\"cloud computing\"]]\n",
    "# we will replace indexes with keys\n",
    "a[3]"
   ]
  },
  {
   "cell_type": "code",
   "execution_count": 40,
   "id": "46027ae2",
   "metadata": {},
   "outputs": [
    {
     "data": {
      "text/plain": [
       "{'name': 'Imran',\n",
       " 'fname': 'Wali',\n",
       " 'age': 39,\n",
       " 'qualification': 'M.Phil',\n",
       " 'skills': ['Ms Office', 'T-24', 'MIS'],\n",
       " 0: 'Pakistan'}"
      ]
     },
     "execution_count": 40,
     "metadata": {},
     "output_type": "execute_result"
    }
   ],
   "source": [
    "data = {\n",
    "    'name':'Imran',\n",
    "    'fname':'Wali',\n",
    "    'age':39,\n",
    "    'qualification':'M.Phil',\n",
    "    'skills':['Ms Office',\"T-24\",'MIS'],\n",
    "    0:\"Pakistan\"\n",
    "}\n",
    "data"
   ]
  },
  {
   "cell_type": "markdown",
   "id": "d5da6cfb",
   "metadata": {},
   "source": [
    "## How to access value from dictionary\n",
    "* dictname['key']\n"
   ]
  },
  {
   "cell_type": "code",
   "execution_count": 42,
   "id": "0a8c9ceb",
   "metadata": {},
   "outputs": [
    {
     "name": "stdout",
     "output_type": "stream",
     "text": [
      "<class 'dict'>\n"
     ]
    },
    {
     "data": {
      "text/plain": [
       "{'name': 'Imran',\n",
       " 'fname': 'Wali',\n",
       " 'age': 39,\n",
       " 'qualification': 'M.Phil',\n",
       " 'skills': ['Ms Office', 'T-24', 'MIS'],\n",
       " 0: 'Pakistan'}"
      ]
     },
     "execution_count": 42,
     "metadata": {},
     "output_type": "execute_result"
    }
   ],
   "source": [
    "data = {\n",
    "    'name':'Imran',\n",
    "    'fname':'Wali',\n",
    "    'age':39,\n",
    "    'qualification':'M.Phil',\n",
    "    'skills':['Ms Office',\"T-24\",'MIS'],\n",
    "    0:\"Pakistan\"\n",
    "}\n",
    "print(type(data))\n",
    "data"
   ]
  },
  {
   "cell_type": "code",
   "execution_count": 44,
   "id": "2e88995c",
   "metadata": {},
   "outputs": [
    {
     "data": {
      "text/plain": [
       "'Imran'"
      ]
     },
     "execution_count": 44,
     "metadata": {},
     "output_type": "execute_result"
    }
   ],
   "source": [
    "data = {\n",
    "    'name':'Imran',\n",
    "    'fname':'Wali',\n",
    "    'age':39,\n",
    "    'qualification':'M.Phil',\n",
    "    'skills':['Ms Office',\"T-24\",'MIS'],\n",
    "    0:\"Pakistan\"\n",
    "}\n",
    "data['name']"
   ]
  },
  {
   "cell_type": "code",
   "execution_count": 45,
   "id": "753b2e4b",
   "metadata": {},
   "outputs": [
    {
     "data": {
      "text/plain": [
       "'Pakistan'"
      ]
     },
     "execution_count": 45,
     "metadata": {},
     "output_type": "execute_result"
    }
   ],
   "source": [
    "data[0]"
   ]
  },
  {
   "cell_type": "code",
   "execution_count": 46,
   "id": "7e56ccf8",
   "metadata": {},
   "outputs": [],
   "source": [
    "data = {\n",
    "    'name':'Imran',\n",
    "    'fname':'Wali',\n",
    "    'age':39,\n",
    "    'qualification':'M.Phil',\n",
    "    'skills':['Ms Office',\"T-24\",'MIS'],\n",
    "    0:\"Pakistan\"\n",
    "}"
   ]
  },
  {
   "cell_type": "code",
   "execution_count": 47,
   "id": "472ba0fc",
   "metadata": {},
   "outputs": [],
   "source": [
    "import pandas as pd"
   ]
  },
  {
   "cell_type": "code",
   "execution_count": 48,
   "id": "05808cc8",
   "metadata": {},
   "outputs": [
    {
     "data": {
      "text/html": [
       "<div>\n",
       "<style scoped>\n",
       "    .dataframe tbody tr th:only-of-type {\n",
       "        vertical-align: middle;\n",
       "    }\n",
       "\n",
       "    .dataframe tbody tr th {\n",
       "        vertical-align: top;\n",
       "    }\n",
       "\n",
       "    .dataframe thead th {\n",
       "        text-align: right;\n",
       "    }\n",
       "</style>\n",
       "<table border=\"1\" class=\"dataframe\">\n",
       "  <thead>\n",
       "    <tr style=\"text-align: right;\">\n",
       "      <th></th>\n",
       "      <th>name</th>\n",
       "      <th>fname</th>\n",
       "      <th>age</th>\n",
       "      <th>qualification</th>\n",
       "      <th>skills</th>\n",
       "      <th>0</th>\n",
       "    </tr>\n",
       "  </thead>\n",
       "  <tbody>\n",
       "    <tr>\n",
       "      <th>0</th>\n",
       "      <td>Imran</td>\n",
       "      <td>Wali</td>\n",
       "      <td>39</td>\n",
       "      <td>M.Phil</td>\n",
       "      <td>Ms Office</td>\n",
       "      <td>Pakistan</td>\n",
       "    </tr>\n",
       "    <tr>\n",
       "      <th>1</th>\n",
       "      <td>Imran</td>\n",
       "      <td>Wali</td>\n",
       "      <td>39</td>\n",
       "      <td>M.Phil</td>\n",
       "      <td>T-24</td>\n",
       "      <td>Pakistan</td>\n",
       "    </tr>\n",
       "    <tr>\n",
       "      <th>2</th>\n",
       "      <td>Imran</td>\n",
       "      <td>Wali</td>\n",
       "      <td>39</td>\n",
       "      <td>M.Phil</td>\n",
       "      <td>MIS</td>\n",
       "      <td>Pakistan</td>\n",
       "    </tr>\n",
       "  </tbody>\n",
       "</table>\n",
       "</div>"
      ],
      "text/plain": [
       "    name fname  age qualification     skills         0\n",
       "0  Imran  Wali   39        M.Phil  Ms Office  Pakistan\n",
       "1  Imran  Wali   39        M.Phil       T-24  Pakistan\n",
       "2  Imran  Wali   39        M.Phil        MIS  Pakistan"
      ]
     },
     "execution_count": 48,
     "metadata": {},
     "output_type": "execute_result"
    }
   ],
   "source": [
    "import pandas as pd\n",
    "\n",
    "df = pd.DataFrame(data)\n",
    "df"
   ]
  },
  {
   "cell_type": "code",
   "execution_count": 49,
   "id": "b4269484",
   "metadata": {},
   "outputs": [
    {
     "data": {
      "text/plain": [
       "{'name': 'Muhammad Imran wali AI student', 'fname': 'Wali', 'course': 'MIS'}"
      ]
     },
     "execution_count": 49,
     "metadata": {},
     "output_type": "execute_result"
    }
   ],
   "source": [
    "data = {}\n",
    "\n",
    "data['name'] = \"Muhammad Imran\" # add key value1\n",
    "data['fname'] = \"Wali\" # add key value 2\n",
    "data['course'] = \"MIS\" # \n",
    "data['name'] = \"Muhammad Imran wali\"\n",
    "data['name'] = data['name']+\" AI student\"\n",
    "\n",
    "data"
   ]
  },
  {
   "cell_type": "code",
   "execution_count": 50,
   "id": "7b8d9976",
   "metadata": {},
   "outputs": [
    {
     "data": {
      "text/plain": [
       "'MIS'"
      ]
     },
     "execution_count": 50,
     "metadata": {},
     "output_type": "execute_result"
    }
   ],
   "source": [
    "data['course']"
   ]
  },
  {
   "cell_type": "code",
   "execution_count": 52,
   "id": "f2808e0f",
   "metadata": {},
   "outputs": [
    {
     "data": {
      "text/plain": [
       "['__class__',\n",
       " '__class_getitem__',\n",
       " '__contains__',\n",
       " '__delattr__',\n",
       " '__delitem__',\n",
       " '__dir__',\n",
       " '__doc__',\n",
       " '__eq__',\n",
       " '__format__',\n",
       " '__ge__',\n",
       " '__getattribute__',\n",
       " '__getitem__',\n",
       " '__gt__',\n",
       " '__hash__',\n",
       " '__init__',\n",
       " '__init_subclass__',\n",
       " '__ior__',\n",
       " '__iter__',\n",
       " '__le__',\n",
       " '__len__',\n",
       " '__lt__',\n",
       " '__ne__',\n",
       " '__new__',\n",
       " '__or__',\n",
       " '__reduce__',\n",
       " '__reduce_ex__',\n",
       " '__repr__',\n",
       " '__reversed__',\n",
       " '__ror__',\n",
       " '__setattr__',\n",
       " '__setitem__',\n",
       " '__sizeof__',\n",
       " '__str__',\n",
       " '__subclasshook__',\n",
       " 'clear',\n",
       " 'copy',\n",
       " 'fromkeys',\n",
       " 'get',\n",
       " 'items',\n",
       " 'keys',\n",
       " 'pop',\n",
       " 'popitem',\n",
       " 'setdefault',\n",
       " 'update',\n",
       " 'values']"
      ]
     },
     "execution_count": 52,
     "metadata": {},
     "output_type": "execute_result"
    }
   ],
   "source": [
    "dir(data)"
   ]
  },
  {
   "cell_type": "code",
   "execution_count": 53,
   "id": "3c89cfe9",
   "metadata": {},
   "outputs": [
    {
     "name": "stdout",
     "output_type": "stream",
     "text": [
      "{'name': 'Muhammad Imran wali AI student', 'fname': 'Wali', 'course': 'MIS'}\n",
      "{}\n"
     ]
    }
   ],
   "source": [
    "data = {}\n",
    "\n",
    "data['name'] = \"Muhammad Imran\" # add key value1\n",
    "data['fname'] = \"Wali\" # add key value 2\n",
    "data['course'] = \"MIS\" # \n",
    "data['name'] = \"Muhammad Imran wali\"\n",
    "data['name'] = data['name']+\" AI student\"\n",
    "\n",
    "print(data)\n",
    "data.clear() # clear/empty but oject exist \n",
    "print(data)"
   ]
  },
  {
   "cell_type": "code",
   "execution_count": 54,
   "id": "909d2967",
   "metadata": {},
   "outputs": [
    {
     "name": "stdout",
     "output_type": "stream",
     "text": [
      "{'name': 'Muhammad Imran wali AI student', 'fname': 'Wali', 'course': 'MIS'}\n"
     ]
    },
    {
     "ename": "NameError",
     "evalue": "name 'data' is not defined",
     "output_type": "error",
     "traceback": [
      "\u001b[1;31m---------------------------------------------------------------------------\u001b[0m",
      "\u001b[1;31mNameError\u001b[0m                                 Traceback (most recent call last)",
      "\u001b[1;32mC:\\Users\\MUHAMM~1\\AppData\\Local\\Temp/ipykernel_4632/723186856.py\u001b[0m in \u001b[0;36m<module>\u001b[1;34m\u001b[0m\n\u001b[0;32m      9\u001b[0m \u001b[0mprint\u001b[0m\u001b[1;33m(\u001b[0m\u001b[0mdata\u001b[0m\u001b[1;33m)\u001b[0m\u001b[1;33m\u001b[0m\u001b[1;33m\u001b[0m\u001b[0m\n\u001b[0;32m     10\u001b[0m \u001b[1;32mdel\u001b[0m \u001b[0mdata\u001b[0m \u001b[1;31m# delete object\u001b[0m\u001b[1;33m\u001b[0m\u001b[1;33m\u001b[0m\u001b[0m\n\u001b[1;32m---> 11\u001b[1;33m \u001b[0mprint\u001b[0m\u001b[1;33m(\u001b[0m\u001b[0mdata\u001b[0m\u001b[1;33m)\u001b[0m\u001b[1;33m\u001b[0m\u001b[1;33m\u001b[0m\u001b[0m\n\u001b[0m",
      "\u001b[1;31mNameError\u001b[0m: name 'data' is not defined"
     ]
    }
   ],
   "source": [
    "data = {}\n",
    "\n",
    "data['name'] = \"Muhammad Imran\" # add key value1\n",
    "data['fname'] = \"Wali\" # add key value 2\n",
    "data['course'] = \"MIS\" # \n",
    "data['name'] = \"Muhammad Imran wali\"\n",
    "data['name'] = data['name']+\" AI student\"\n",
    "\n",
    "print(data)\n",
    "del data # delete object\n",
    "print(data)"
   ]
  },
  {
   "cell_type": "code",
   "execution_count": 55,
   "id": "8f6bab4a",
   "metadata": {},
   "outputs": [
    {
     "name": "stdout",
     "output_type": "stream",
     "text": [
      "{'name': 'Muhammad Imran wali AI student', 'fname': 'Wali', 'course': 'MIS'}\n"
     ]
    }
   ],
   "source": [
    "data = {}\n",
    "\n",
    "data['name'] = \"Muhammad Imran\" # add key value1\n",
    "data['fname'] = \"Wali\" # add key value 2\n",
    "data['course'] = \"MIS\" # \n",
    "data['name'] = \"Muhammad Imran wali\"\n",
    "data['name'] = data['name']+\" AI student\"\n",
    "\n",
    "print(data)"
   ]
  },
  {
   "cell_type": "markdown",
   "id": "d9e63be4",
   "metadata": {},
   "source": [
    "### from keys"
   ]
  },
  {
   "cell_type": "code",
   "execution_count": 64,
   "id": "c3888628",
   "metadata": {},
   "outputs": [
    {
     "data": {
      "text/plain": [
       "{'id': None,\n",
       " 'name': None,\n",
       " 'fname': None,\n",
       " 'course': None,\n",
       " 'timing': None,\n",
       " 'address': None}"
      ]
     },
     "execution_count": 64,
     "metadata": {},
     "output_type": "execute_result"
    }
   ],
   "source": [
    "keys = ['id','name','fname','course','timing','address']\n",
    "\n",
    "dict.fromkeys(keys)"
   ]
  },
  {
   "cell_type": "code",
   "execution_count": 65,
   "id": "ef9cfabf",
   "metadata": {},
   "outputs": [
    {
     "data": {
      "text/plain": [
       "{'id': 'empty', 'name': 'empty', 'fname': 'empty'}"
      ]
     },
     "execution_count": 65,
     "metadata": {},
     "output_type": "execute_result"
    }
   ],
   "source": [
    "keys = ['id','name','fname']\n",
    "\n",
    "\n",
    "dict.fromkeys(keys,'empty')"
   ]
  },
  {
   "cell_type": "markdown",
   "id": "98727e9a",
   "metadata": {},
   "source": [
    "### get"
   ]
  },
  {
   "cell_type": "code",
   "execution_count": 66,
   "id": "e3f9847c",
   "metadata": {},
   "outputs": [
    {
     "ename": "TypeError",
     "evalue": "'dict' object is not callable",
     "output_type": "error",
     "traceback": [
      "\u001b[1;31m---------------------------------------------------------------------------\u001b[0m",
      "\u001b[1;31mTypeError\u001b[0m                                 Traceback (most recent call last)",
      "\u001b[1;32mC:\\Users\\MUHAMM~1\\AppData\\Local\\Temp/ipykernel_4632/4137448452.py\u001b[0m in \u001b[0;36m<module>\u001b[1;34m\u001b[0m\n\u001b[0;32m      7\u001b[0m     \u001b[1;36m0\u001b[0m\u001b[1;33m:\u001b[0m\u001b[1;34m\"Pakistan\"\u001b[0m\u001b[1;33m\u001b[0m\u001b[1;33m\u001b[0m\u001b[0m\n\u001b[0;32m      8\u001b[0m }\n\u001b[1;32m----> 9\u001b[1;33m \u001b[0mdata\u001b[0m\u001b[1;33m(\u001b[0m\u001b[1;34m'contact'\u001b[0m\u001b[1;33m)\u001b[0m\u001b[1;33m\u001b[0m\u001b[1;33m\u001b[0m\u001b[0m\n\u001b[0m",
      "\u001b[1;31mTypeError\u001b[0m: 'dict' object is not callable"
     ]
    }
   ],
   "source": [
    "data = {\n",
    "    'name':'Imran',\n",
    "    'fname':'Wali',\n",
    "    'age':39,\n",
    "    'qualification':'M.Phil',\n",
    "    'skills':['Ms Office',\"T-24\",'MIS'],\n",
    "    0:\"Pakistan\"\n",
    "}\n",
    "data('contact')"
   ]
  },
  {
   "cell_type": "code",
   "execution_count": 67,
   "id": "66be6322",
   "metadata": {},
   "outputs": [
    {
     "data": {
      "text/plain": [
       "'Imran'"
      ]
     },
     "execution_count": 67,
     "metadata": {},
     "output_type": "execute_result"
    }
   ],
   "source": [
    "data = {\n",
    "    'name':'Imran',\n",
    "    'fname':'Wali',\n",
    "    'age':39,\n",
    "    'qualification':'M.Phil',\n",
    "    'skills':['Ms Office',\"T-24\",'MIS'],\n",
    "    0:\"Pakistan\"\n",
    "}\n",
    "data.get('name')"
   ]
  },
  {
   "cell_type": "code",
   "execution_count": null,
   "id": "70463f7a",
   "metadata": {},
   "outputs": [],
   "source": [
    "data.get('contact')"
   ]
  },
  {
   "cell_type": "code",
   "execution_count": 69,
   "id": "d6b86bd4",
   "metadata": {},
   "outputs": [
    {
     "data": {
      "text/plain": [
       "'not available'"
      ]
     },
     "execution_count": 69,
     "metadata": {},
     "output_type": "execute_result"
    }
   ],
   "source": [
    "data.get('contact',\"not available\")"
   ]
  },
  {
   "cell_type": "code",
   "execution_count": 70,
   "id": "7dfca1bc",
   "metadata": {},
   "outputs": [
    {
     "data": {
      "text/plain": [
       "{'name': 'Imran',\n",
       " 'fname': 'Wali',\n",
       " 'age': 39,\n",
       " 'qualification': 'M.Phil',\n",
       " 'skills': ['Ms Office', 'T-24', 'MIS'],\n",
       " 0: 'Pakistan'}"
      ]
     },
     "execution_count": 70,
     "metadata": {},
     "output_type": "execute_result"
    }
   ],
   "source": [
    "data"
   ]
  },
  {
   "cell_type": "markdown",
   "id": "141d37f0",
   "metadata": {},
   "source": [
    "# item, keys, values\n"
   ]
  },
  {
   "cell_type": "code",
   "execution_count": 71,
   "id": "a7396349",
   "metadata": {},
   "outputs": [
    {
     "data": {
      "text/plain": [
       "{'name': 'Imran',\n",
       " 'fname': 'Wali',\n",
       " 'age': 39,\n",
       " 'qualification': 'M.Phil',\n",
       " 'skills': ['Ms Office', 'T-24', 'MIS'],\n",
       " 0: 'Pakistan'}"
      ]
     },
     "execution_count": 71,
     "metadata": {},
     "output_type": "execute_result"
    }
   ],
   "source": [
    "data = {\n",
    "    'name':'Imran',\n",
    "    'fname':'Wali',\n",
    "    'age':39,\n",
    "    'qualification':'M.Phil',\n",
    "    'skills':['Ms Office',\"T-24\",'MIS'],\n",
    "    0:\"Pakistan\"\n",
    "}\n",
    "data"
   ]
  },
  {
   "cell_type": "code",
   "execution_count": 72,
   "id": "f077e89c",
   "metadata": {},
   "outputs": [
    {
     "data": {
      "text/plain": [
       "dict_items([('name', 'Imran'), ('fname', 'Wali'), ('age', 39), ('qualification', 'M.Phil'), ('skills', ['Ms Office', 'T-24', 'MIS']), (0, 'Pakistan')])"
      ]
     },
     "execution_count": 72,
     "metadata": {},
     "output_type": "execute_result"
    }
   ],
   "source": [
    "data.items()"
   ]
  },
  {
   "cell_type": "code",
   "execution_count": 73,
   "id": "09bd4687",
   "metadata": {},
   "outputs": [
    {
     "data": {
      "text/plain": [
       "dict_keys(['name', 'fname', 'age', 'qualification', 'skills', 0])"
      ]
     },
     "execution_count": 73,
     "metadata": {},
     "output_type": "execute_result"
    }
   ],
   "source": [
    "data.keys()"
   ]
  },
  {
   "cell_type": "code",
   "execution_count": 74,
   "id": "94612937",
   "metadata": {},
   "outputs": [
    {
     "data": {
      "text/plain": [
       "dict_values(['Imran', 'Wali', 39, 'M.Phil', ['Ms Office', 'T-24', 'MIS'], 'Pakistan'])"
      ]
     },
     "execution_count": 74,
     "metadata": {},
     "output_type": "execute_result"
    }
   ],
   "source": [
    "data.values()"
   ]
  },
  {
   "cell_type": "code",
   "execution_count": 75,
   "id": "f70cefbb",
   "metadata": {},
   "outputs": [
    {
     "name": "stdout",
     "output_type": "stream",
     "text": [
      "Imran\n",
      "Wali\n",
      "39\n",
      "M.Phil\n",
      "['Ms Office', 'T-24', 'MIS']\n",
      "Pakistan\n"
     ]
    }
   ],
   "source": [
    "for v in data.values():\n",
    "    print(v)"
   ]
  },
  {
   "cell_type": "code",
   "execution_count": 76,
   "id": "b9759cd2",
   "metadata": {},
   "outputs": [
    {
     "name": "stdout",
     "output_type": "stream",
     "text": [
      "name\n",
      "fname\n",
      "age\n",
      "qualification\n",
      "skills\n",
      "0\n"
     ]
    }
   ],
   "source": [
    "for k in data.keys():\n",
    "    print(k)"
   ]
  },
  {
   "cell_type": "code",
   "execution_count": 77,
   "id": "4b67cf14",
   "metadata": {},
   "outputs": [
    {
     "name": "stdout",
     "output_type": "stream",
     "text": [
      "Imran\n",
      "39\n",
      "age\n"
     ]
    }
   ],
   "source": [
    "k = \"Pakistan\"\n",
    "for k in ['name','age']:\n",
    "    print(data[k])\n",
    "    \n",
    "    \n",
    "print(k)"
   ]
  },
  {
   "cell_type": "code",
   "execution_count": 78,
   "id": "56567196",
   "metadata": {},
   "outputs": [
    {
     "name": "stdout",
     "output_type": "stream",
     "text": [
      "('name', 'Imran')\n",
      "('fname', 'Wali')\n",
      "('age', 39)\n",
      "('qualification', 'M.Phil')\n",
      "('skills', ['Ms Office', 'T-24', 'MIS'])\n",
      "(0, 'Pakistan')\n"
     ]
    }
   ],
   "source": [
    "for i in data.items():\n",
    "    print(i)"
   ]
  },
  {
   "cell_type": "code",
   "execution_count": 79,
   "id": "9609626b",
   "metadata": {},
   "outputs": [
    {
     "name": "stdout",
     "output_type": "stream",
     "text": [
      "name Imran\n",
      "fname Wali\n",
      "age 39\n",
      "qualification M.Phil\n",
      "skills ['Ms Office', 'T-24', 'MIS']\n",
      "0 Pakistan\n"
     ]
    }
   ],
   "source": [
    "for k,v in data.items():\n",
    "    print(k,v)"
   ]
  },
  {
   "cell_type": "code",
   "execution_count": 80,
   "id": "49c32332",
   "metadata": {},
   "outputs": [
    {
     "data": {
      "text/plain": [
       "[1, 2, 3, 4, 5, 6, 7, 8, 9, 10]"
      ]
     },
     "execution_count": 80,
     "metadata": {},
     "output_type": "execute_result"
    }
   ],
   "source": [
    "list(range(1,11))"
   ]
  },
  {
   "cell_type": "code",
   "execution_count": 85,
   "id": "30a9ff9e",
   "metadata": {},
   "outputs": [
    {
     "name": "stdout",
     "output_type": "stream",
     "text": [
      "1\n",
      "2\n",
      "3\n",
      "4\n",
      "5\n",
      "6\n",
      "7\n",
      "8\n",
      "9\n",
      "10\n"
     ]
    }
   ],
   "source": [
    "for num in [1, 2, 3, 4, 5, 6, 7, 8, 9, 10]:\n",
    "    print(num)"
   ]
  },
  {
   "cell_type": "code",
   "execution_count": 90,
   "id": "d7b4f80f",
   "metadata": {},
   "outputs": [],
   "source": [
    "#for 10 in []:\n",
    " #   print(10)\n",
    "#1\n",
    "#2\n",
    "#3\n",
    "#4\n",
    "#5\n",
    "#6\n",
    "#7\n",
    "#8\n",
    "#9\n",
    "#10"
   ]
  },
  {
   "cell_type": "code",
   "execution_count": 87,
   "id": "2718e43a",
   "metadata": {},
   "outputs": [
    {
     "name": "stdout",
     "output_type": "stream",
     "text": [
      "Pakistan\n",
      "None\n"
     ]
    }
   ],
   "source": [
    "a = print('Pakistan')# non-return function\n",
    "print(a)"
   ]
  },
  {
   "cell_type": "code",
   "execution_count": 88,
   "id": "041aac9a",
   "metadata": {},
   "outputs": [
    {
     "name": "stdout",
     "output_type": "stream",
     "text": [
      "8\n"
     ]
    }
   ],
   "source": [
    "a = len('Pakistan')# Return function\n",
    "print(a)"
   ]
  },
  {
   "cell_type": "code",
   "execution_count": 89,
   "id": "61f3561d",
   "metadata": {},
   "outputs": [
    {
     "name": "stdout",
     "output_type": "stream",
     "text": [
      "<class 'str'>\n"
     ]
    }
   ],
   "source": [
    "a = type('Pakistan')# Return function\n",
    "print(a)"
   ]
  },
  {
   "cell_type": "markdown",
   "id": "a6bc1be2",
   "metadata": {},
   "source": [
    "### pop\n"
   ]
  },
  {
   "cell_type": "code",
   "execution_count": 91,
   "id": "2d78096f",
   "metadata": {},
   "outputs": [
    {
     "data": {
      "text/plain": [
       "{'fname': 'Wali',\n",
       " 'age': 39,\n",
       " 'qualification': 'M.Phil',\n",
       " 'skills': ['Ms Office', 'T-24', 'MIS'],\n",
       " 0: 'Pakistan'}"
      ]
     },
     "execution_count": 91,
     "metadata": {},
     "output_type": "execute_result"
    }
   ],
   "source": [
    "data = {\n",
    "    'name':'Imran',\n",
    "    'fname':'Wali',\n",
    "    'age':39,\n",
    "    'qualification':'M.Phil',\n",
    "    'skills':['Ms Office',\"T-24\",'MIS'],\n",
    "    0:\"Pakistan\"\n",
    "}\n",
    "del data['name']\n",
    "data"
   ]
  },
  {
   "cell_type": "code",
   "execution_count": 93,
   "id": "f098251a",
   "metadata": {},
   "outputs": [
    {
     "name": "stdout",
     "output_type": "stream",
     "text": [
      "<class 'str'>\n"
     ]
    },
    {
     "data": {
      "text/plain": [
       "{'fname': 'Wali',\n",
       " 'age': 39,\n",
       " 'qualification': 'M.Phil',\n",
       " 'skills': ['Ms Office', 'T-24', 'MIS'],\n",
       " 0: 'Pakistan'}"
      ]
     },
     "execution_count": 93,
     "metadata": {},
     "output_type": "execute_result"
    }
   ],
   "source": [
    "data = {\n",
    "    'name':'Imran',\n",
    "    'fname':'Wali',\n",
    "    'age':39,\n",
    "    'qualification':'M.Phil',\n",
    "    'skills':['Ms Office',\"T-24\",'MIS'],\n",
    "    0:\"Pakistan\"\n",
    "}\n",
    "del data['name']\n",
    "print(a)\n",
    "data"
   ]
  },
  {
   "cell_type": "code",
   "execution_count": 94,
   "id": "cbbfeecd",
   "metadata": {},
   "outputs": [
    {
     "name": "stdout",
     "output_type": "stream",
     "text": [
      "Imran\n",
      "{'fname': 'Wali', 'age': 39, 'qualification': 'M.Phil', 'skills': ['Ms Office', 'T-24', 'MIS'], 0: 'Pakistan'}\n"
     ]
    }
   ],
   "source": [
    "data = {\n",
    "    'name':'Imran',\n",
    "    'fname':'Wali',\n",
    "    'age':39,\n",
    "    'qualification':'M.Phil',\n",
    "    'skills':['Ms Office',\"T-24\",'MIS'],\n",
    "    0:\"Pakistan\"\n",
    "}\n",
    "a = data.pop(\"name\")# return function\n",
    "print(a)\n",
    "print(data)"
   ]
  },
  {
   "cell_type": "code",
   "execution_count": 95,
   "id": "73aa32d5",
   "metadata": {},
   "outputs": [
    {
     "name": "stdout",
     "output_type": "stream",
     "text": [
      "Imran\n",
      "{'fname': 'Wali', 'qualification': 'M.Phil', 'skills': ['Ms Office', 'T-24', 'MIS'], 0: 'Pakistan'}\n",
      "['Imran', 39]\n"
     ]
    }
   ],
   "source": [
    "completed_list = []\n",
    "\n",
    "data = {\n",
    "    'name':'Imran',\n",
    "    'fname':'Wali',\n",
    "    'age':39,\n",
    "    'qualification':'M.Phil',\n",
    "    'skills':['Ms Office',\"T-24\",'MIS'],\n",
    "    0:\"Pakistan\"\n",
    "}\n",
    "\n",
    "a = data.pop(\"name\")# return function\n",
    "b = data.pop(\"age\")\n",
    "\n",
    "completed_list.append(a)\n",
    "completed_list.append(b)\n",
    "print(a)\n",
    "print(data)\n",
    "print(completed_list)"
   ]
  },
  {
   "cell_type": "code",
   "execution_count": 96,
   "id": "7f7a5699",
   "metadata": {},
   "outputs": [
    {
     "name": "stdout",
     "output_type": "stream",
     "text": [
      "(0, 'Pakistan')\n",
      "{'name': 'Imran', 'fname': 'Wali', 'age': 39, 'qualification': 'M.Phil', 'skills': ['Ms Office', 'T-24', 'MIS']}\n"
     ]
    }
   ],
   "source": [
    "data = {\n",
    "    'name':'Imran',\n",
    "    'fname':'Wali',\n",
    "    'age':39,\n",
    "    'qualification':'M.Phil',\n",
    "    'skills':['Ms Office',\"T-24\",'MIS'],\n",
    "    0:\"Pakistan\"\n",
    "}\n",
    "a = data.popitem()# return function\n",
    "print(a)\n",
    "print(data)"
   ]
  }
 ],
 "metadata": {
  "kernelspec": {
   "display_name": "Python 3 (ipykernel)",
   "language": "python",
   "name": "python3"
  },
  "language_info": {
   "codemirror_mode": {
    "name": "ipython",
    "version": 3
   },
   "file_extension": ".py",
   "mimetype": "text/x-python",
   "name": "python",
   "nbconvert_exporter": "python",
   "pygments_lexer": "ipython3",
   "version": "3.9.7"
  }
 },
 "nbformat": 4,
 "nbformat_minor": 5
}
